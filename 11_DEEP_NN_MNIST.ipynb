{
  "nbformat": 4,
  "nbformat_minor": 0,
  "metadata": {
    "colab": {
      "name": "Untitled1.ipynb",
      "provenance": []
    },
    "kernelspec": {
      "name": "python3",
      "display_name": "Python 3"
    }
  },
  "cells": [
    {
      "cell_type": "markdown",
      "metadata": {
        "id": "e1leP-x3L5-o",
        "colab_type": "text"
      },
      "source": [
        "deep NN for Mnist : accuracy about 98%"
      ]
    },
    {
      "cell_type": "code",
      "metadata": {
        "id": "i3EKEToOL9aL",
        "colab_type": "code",
        "outputId": "0f0fd7fc-513d-4fc8-f5df-f33cb2061576",
        "colab": {
          "base_uri": "https://localhost:8080/",
          "height": 673
        }
      },
      "source": [
        "import tensorflow as tf\n",
        "import random\n",
        "import matplotlib.pyplot as plt\n",
        "\n",
        "from tensorflow.examples.tutorials.mnist import input_data\n",
        "\n",
        "tf.set_random_seed(777) \n",
        "tf.reset_default_graph() #변수 초기화\n",
        "mnist = input_data.read_data_sets(\"MNIST_data/\", one_hot=True)\n",
        "\n",
        "learning_rate = 0.001\n",
        "training_epochs = 15\n",
        "batch_size = 100\n",
        "\n",
        "x = tf.placeholder(tf.float32, [None, 784])\n",
        "y = tf.placeholder(tf.float32, [None, 10])\n",
        "\n",
        "w1 = tf.get_variable(\"W1\", shape=[784, 512], initializer=tf.contrib.layers.xavier_initializer())\n",
        "b1 = tf.Variable(tf.random_normal([512]))\n",
        "l1 = tf.nn.relu(tf.matmul(x, w1) + b1)\n",
        "\n",
        "w2 = tf.get_variable(\"W2\", shape=[512, 512], initializer=tf.contrib.layers.xavier_initializer())\n",
        "b2 = tf.Variable(tf.random_normal([512]))\n",
        "l2 = tf.nn.relu(tf.matmul(l1, w2) + b2)\n",
        "\n",
        "w3 = tf.get_variable(\"W3\", shape=[512, 512], initializer=tf.contrib.layers.xavier_initializer())\n",
        "b3 = tf.Variable(tf.random_normal([512]))\n",
        "l3 = tf.nn.relu(tf.matmul(l2, w3) + b3)\n",
        "\n",
        "w4 = tf.get_variable(\"W4\", shape=[512, 512], initializer=tf.contrib.layers.xavier_initializer())\n",
        "b4 = tf.Variable(tf.random_normal([512]))\n",
        "l4 = tf.nn.relu(tf.matmul(l3, w4) + b4)\n",
        "\n",
        "w5 = tf.get_variable(\"W5\", shape=[512, 10], initializer=tf.contrib.layers.xavier_initializer())\n",
        "b5 = tf.Variable(tf.random_normal([10]))\n",
        "hypothesis = tf.matmul(l4, w5) + b5\n",
        "\n",
        "cost = tf.reduce_mean(tf.nn.softmax_cross_entropy_with_logits(logits=hypothesis, labels=y))\n",
        "optimizer = tf.train.AdamOptimizer(learning_rate=learning_rate).minimize(cost)\n",
        "\n",
        "sess = tf.Session()\n",
        "sess.run(tf.global_variables_initializer())\n",
        "\n",
        "for epoch in range(training_epochs):\n",
        "    avg_cost = 0\n",
        "    total_batch = int(mnist.train.num_examples / batch_size)\n",
        "\n",
        "    for i in range(total_batch):\n",
        "        batch_xs, batch_ys = mnist.train.next_batch(batch_size)\n",
        "        feed_dict = {x: batch_xs, y: batch_ys}\n",
        "        c, _ = sess.run([cost, optimizer], feed_dict=feed_dict)\n",
        "        avg_cost += c / total_batch\n",
        "\n",
        "    print('Epoch:', '%04d' % (epoch + 1), 'cost =', '{:.9f}'.format(avg_cost))\n",
        "\n",
        "print('Learning Finished!')\n",
        "\n",
        "correct_prediction = tf.equal(tf.argmax(hypothesis, 1), tf.argmax(y, 1))\n",
        "accuracy = tf.reduce_mean(tf.cast(correct_prediction, tf.float32))\n",
        "print('Accuracy:', sess.run(accuracy, feed_dict={x: mnist.test.images, y: mnist.test.labels}))\n",
        "\n",
        "r = random.randint(0, mnist.test.num_examples - 1)\n",
        "print(\"Label: \", sess.run(tf.argmax(mnist.test.labels[r:r + 1], 1)))\n",
        "print(\"Prediction: \", sess.run(tf.argmax(hypothesis, 1), feed_dict={x: mnist.test.images[r:r + 1]}))\n",
        "\n",
        "plt.imshow(mnist.test.images[r:r + 1].\n",
        "          reshape(28, 28), cmap='Greys', interpolation='nearest')\n",
        "plt.show()"
      ],
      "execution_count": 0,
      "outputs": [
        {
          "output_type": "stream",
          "text": [
            "Extracting MNIST_data/train-images-idx3-ubyte.gz\n",
            "Extracting MNIST_data/train-labels-idx1-ubyte.gz\n",
            "Extracting MNIST_data/t10k-images-idx3-ubyte.gz\n",
            "Extracting MNIST_data/t10k-labels-idx1-ubyte.gz\n",
            "Epoch: 0001 cost = 0.285332552\n",
            "Epoch: 0002 cost = 0.101540083\n",
            "Epoch: 0003 cost = 0.067855325\n",
            "Epoch: 0004 cost = 0.052638687\n",
            "Epoch: 0005 cost = 0.042107093\n",
            "Epoch: 0006 cost = 0.034162816\n",
            "Epoch: 0007 cost = 0.030016249\n",
            "Epoch: 0008 cost = 0.026983329\n",
            "Epoch: 0009 cost = 0.021476106\n",
            "Epoch: 0010 cost = 0.018336871\n",
            "Epoch: 0011 cost = 0.021907002\n",
            "Epoch: 0012 cost = 0.018091819\n",
            "Epoch: 0013 cost = 0.015241065\n",
            "Epoch: 0014 cost = 0.016981512\n",
            "Epoch: 0015 cost = 0.014745160\n",
            "Learning Finished!\n",
            "Accuracy: 0.9806\n",
            "Label:  [3]\n",
            "Prediction:  [3]\n"
          ],
          "name": "stdout"
        },
        {
          "output_type": "display_data",
          "data": {
            "image/png": "[encoded data removed]",
            "text/plain": [
              "<Figure size 432x288 with 1 Axes>"
            ]
          },
          "metadata": {
            "tags": []
          }
        }
      ]
    },
    {
      "cell_type": "markdown",
      "metadata": {
        "id": "IBCFNs4DNbv_",
        "colab_type": "text"
      },
      "source": [
        "Dropout for Mnist : accuracy about 98%"
      ]
    },
    {
      "cell_type": "code",
      "metadata": {
        "id": "-7Xzv5MENdUQ",
        "colab_type": "code",
        "outputId": "f612ed2f-3925-40c5-f876-db9d4506c235",
        "colab": {
          "base_uri": "https://localhost:8080/",
          "height": 726
        }
      },
      "source": [
        "import tensorflow as tf\n",
        "import random\n",
        "import matplotlib.pyplot as plt\n",
        "\n",
        "from tensorflow.examples.tutorials.mnist import input_data\n",
        "\n",
        "tf.set_random_seed(777)\n",
        "tf.reset_default_graph() #변수 초기화\n",
        "\n",
        "mnist = input_data.read_data_sets(\"MNIST_data/\", one_hot=True)\n",
        "\n",
        "learning_rate = 0.001\n",
        "training_epochs = 15\n",
        "batch_size = 100\n",
        "total_batch = int(mnist.train.num_examples / batch_size)\n",
        "\n",
        "x = tf.placeholder(tf.float32, [None, 784])\n",
        "y = tf.placeholder(tf.float32, [None, 10])\n",
        "\n",
        "keep_prob = tf.placeholder(tf.float32)\n",
        "\n",
        "w1 = tf.get_variable(\"W1\", shape=[784, 512], initializer=tf.contrib.layers.xavier_initializer())\n",
        "b1 = tf.Variable(tf.random_normal([512]))\n",
        "l1 = tf.nn.relu(tf.matmul(x, w1) + b1)\n",
        "l1 = tf.nn.dropout(l1, keep_prob=keep_prob)\n",
        "\n",
        "w2 = tf.get_variable(\"W2\", shape=[512, 512], initializer=tf.contrib.layers.xavier_initializer())\n",
        "b2 = tf.Variable(tf.random_normal([512]))\n",
        "l2 = tf.nn.relu(tf.matmul(l1, w2) + b2)\n",
        "l2 = tf.nn.dropout(l2, keep_prob=keep_prob)\n",
        "\n",
        "w3 = tf.get_variable(\"W3\", shape=[512, 512], initializer=tf.contrib.layers.xavier_initializer())\n",
        "b3 = tf.Variable(tf.random_normal([512]))\n",
        "l3 = tf.nn.relu(tf.matmul(l2, w3) + b3)\n",
        "l3 = tf.nn.dropout(l3, keep_prob=keep_prob)\n",
        "\n",
        "w4 = tf.get_variable(\"W4\", shape=[512, 512], initializer=tf.contrib.layers.xavier_initializer())\n",
        "b4 = tf.Variable(tf.random_normal([512]))\n",
        "l4 = tf.nn.relu(tf.matmul(l3, w4) + b4)\n",
        "l4 = tf.nn.dropout(l4, keep_prob=keep_prob)\n",
        "\n",
        "w5 = tf.get_variable(\"W5\", shape=[512, 10], initializer=tf.contrib.layers.xavier_initializer())\n",
        "b5 = tf.Variable(tf.random_normal([10]))\n",
        "hypothesis = tf.matmul(l4, w5) + b5\n",
        "\n",
        "cost = tf.reduce_mean(tf.nn.softmax_cross_entropy_with_logits(logits=hypothesis, labels=y))\n",
        "optimizer = tf.train.AdamOptimizer(learning_rate=learning_rate).minimize(cost)\n",
        "\n",
        "sess = tf.Session()\n",
        "sess.run(tf.global_variables_initializer())\n",
        "\n",
        "for epoch in range(training_epochs):\n",
        "    avg_cost = 0\n",
        "\n",
        "    for i in range(total_batch):\n",
        "        batch_xs, batch_ys = mnist.train.next_batch(batch_size)\n",
        "        feed_dict = {x: batch_xs, y: batch_ys, keep_prob: 0.7}\n",
        "        c, _ = sess.run([cost, optimizer], feed_dict=feed_dict)\n",
        "        avg_cost += c / total_batch\n",
        "\n",
        "    print('Epoch:', '%04d' % (epoch + 1), 'cost =', '{:.9f}'.format(avg_cost))\n",
        "\n",
        "print('Learning Finished!')\n",
        "\n",
        "correct_prediction = tf.equal(tf.argmax(hypothesis, 1), tf.argmax(y, 1))\n",
        "accuracy = tf.reduce_mean(tf.cast(correct_prediction, tf.float32))\n",
        "print('Accuracy:', sess.run(accuracy, feed_dict={x: mnist.test.images, y: mnist.test.labels, keep_prob: 1}))\n",
        "\n",
        "r = random.randint(0, mnist.test.num_examples - 1)\n",
        "print(\"Label: \", sess.run(tf.argmax(mnist.test.labels[r:r + 1], 1)))\n",
        "print(\"Prediction: \", sess.run(tf.argmax(hypothesis, 1), feed_dict={x: mnist.test.images[r:r + 1], keep_prob: 1}))\n",
        "\n",
        "plt.imshow(mnist.test.images[r:r + 1].\n",
        "          reshape(28, 28), cmap='Greys', interpolation='nearest')\n",
        "plt.show()"
      ],
      "execution_count": 0,
      "outputs": [
        {
          "output_type": "stream",
          "text": [
            "Extracting MNIST_data/train-images-idx3-ubyte.gz\n",
            "Extracting MNIST_data/train-labels-idx1-ubyte.gz\n",
            "Extracting MNIST_data/t10k-images-idx3-ubyte.gz\n",
            "Extracting MNIST_data/t10k-labels-idx1-ubyte.gz\n",
            "WARNING:tensorflow:From <ipython-input-11-71d4b374491e>:25: calling dropout (from tensorflow.python.ops.nn_ops) with keep_prob is deprecated and will be removed in a future version.\n",
            "Instructions for updating:\n",
            "Please use `rate` instead of `keep_prob`. Rate should be set to `rate = 1 - keep_prob`.\n",
            "Epoch: 0001 cost = 0.468181754\n",
            "Epoch: 0002 cost = 0.171730907\n",
            "Epoch: 0003 cost = 0.134743540\n",
            "Epoch: 0004 cost = 0.107841795\n",
            "Epoch: 0005 cost = 0.094697727\n",
            "Epoch: 0006 cost = 0.084637463\n",
            "Epoch: 0007 cost = 0.071893265\n",
            "Epoch: 0008 cost = 0.068645823\n",
            "Epoch: 0009 cost = 0.062672714\n",
            "Epoch: 0010 cost = 0.058570361\n",
            "Epoch: 0011 cost = 0.055290651\n",
            "Epoch: 0012 cost = 0.052368859\n",
            "Epoch: 0013 cost = 0.049783039\n",
            "Epoch: 0014 cost = 0.046086985\n",
            "Epoch: 0015 cost = 0.043517363\n",
            "Learning Finished!\n",
            "Accuracy: 0.9806\n",
            "Label:  [6]\n",
            "Prediction:  [6]\n"
          ],
          "name": "stdout"
        },
        {
          "output_type": "display_data",
          "data": {
            "image/png": "[encoded data removed]",
            "text/plain": [
              "<Figure size 432x288 with 1 Axes>"
            ]
          },
          "metadata": {
            "tags": []
          }
        }
      ]
    }
  ]
}