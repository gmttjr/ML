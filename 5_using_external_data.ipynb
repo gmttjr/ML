{
  "nbformat": 4,
  "nbformat_minor": 0,
  "metadata": {
    "colab": {
      "name": "Untitled1.ipynb",
      "provenance": []
    },
    "kernelspec": {
      "name": "python3",
      "display_name": "Python 3"
    }
  },
  "cells": [
    {
      "cell_type": "markdown",
      "metadata": {
        "id": "uE-ZHv8JkEMD",
        "colab_type": "text"
      },
      "source": [
        "코랩과 구글 드라이브 마운트 시킨후 파일 로드"
      ]
    },
    {
      "cell_type": "code",
      "metadata": {
        "id": "6OOmLq5ZAQEs",
        "colab_type": "code",
        "outputId": "dee46862-99fb-434e-df9a-412d096aa189",
        "colab": {
          "base_uri": "https://localhost:8080/",
          "height": 124
        }
      },
      "source": [
        "from google.colab import auth\n",
        "auth.authenticate_user()\n",
        "\n",
        "from google.colab import drive\n",
        "drive.mount('/content/gdrive')"
      ],
      "execution_count": 0,
      "outputs": [
        {
          "output_type": "stream",
          "text": [
            "Go to this URL in a browser: https://accounts.google.com/o/oauth2/auth?client_id=947318989803-6bn6qk8qdgf4n4g3pfee6491hc0brc4i.apps.googleusercontent.com&redirect_uri=urn%3Aietf%3Awg%3Aoauth%3A2.0%3Aoob&scope=email%20https%3A%2F%2Fwww.googleapis.com%2Fauth%2Fdocs.test%20https%3A%2F%2Fwww.googleapis.com%2Fauth%2Fdrive%20https%3A%2F%2Fwww.googleapis.com%2Fauth%2Fdrive.photos.readonly%20https%3A%2F%2Fwww.googleapis.com%2Fauth%2Fpeopleapi.readonly&response_type=code\n",
            "\n",
            "Enter your authorization code:\n",
            "··········\n",
            "Mounted at /content/gdrive\n"
          ],
          "name": "stdout"
        }
      ]
    },
    {
      "cell_type": "markdown",
      "metadata": {
        "id": "r__nTg_ZkJdD",
        "colab_type": "text"
      },
      "source": [
        "마운트 후 파일 확인"
      ]
    },
    {
      "cell_type": "code",
      "metadata": {
        "id": "L0VuSAhbgwxg",
        "colab_type": "code",
        "outputId": "6bb0496b-ed05-4a7a-ce5e-f2459bc9e762",
        "colab": {
          "base_uri": "https://localhost:8080/",
          "height": 297
        }
      },
      "source": [
        "ls -al\n"
      ],
      "execution_count": 0,
      "outputs": [
        {
          "output_type": "stream",
          "text": [
            "total 2102\n",
            "-rw------- 1 root root 592518 Nov 11 05:39 '김윤환 (1).jpg'\n",
            "-rw------- 1 root root 276548 Nov 11 05:36 '학사과정 성적증명서_김윤환 (1).pdf'\n",
            "-rw------- 1 root root    151 Nov 18  2016 '글쓰기2 하이체어 설문.gform'\n",
            "-rw------- 1 root root  11776 Sep 15 11:42 '[양식3]출장보고서 (1).hwp'\n",
            "-rw------- 1 root root  11776 Sep 15 11:43 '[양식3]출장보고서.hwp'\n",
            "-rw------- 1 root root 369305 Jan  4  2012  All-App-Inventor-Projects.zip\n",
            "drwx------ 2 root root   4096 Nov 11 10:22 \u001b[0m\u001b[01;34m'Colab Notebooks'\u001b[0m/\n",
            "-rw------- 1 root root     83 Nov 12 08:37  data-01-test-score.csv\n",
            "-rw------- 1 root root   3533 Nov 12 12:54  data-04-zoo.csv\n",
            "-rw------- 1 root root 592518 Nov 11 05:37  김윤환.jpg\n",
            "drwx------ 2 root root   4096 Nov 12 13:37  \u001b[01;34mML\u001b[0m/\n",
            "-rw------- 1 root root 276548 Nov 11 05:38 '학사과정 성적증명서_김윤환.pdf'\n",
            "-rw------- 1 root root   1179 Mar 20  2019  Untitled0.ipynb\n",
            "-rw------- 1 root root    151 Aug 25  2018 'Untitled document.gdoc'\n",
            "drwx------ 2 root root   4096 Mar 12  2019 \u001b[01;34m'확랜백업.zip (Unzipped Files)'\u001b[0m/\n"
          ],
          "name": "stdout"
        }
      ]
    },
    {
      "cell_type": "markdown",
      "metadata": {
        "id": "7r36Zph87-0o",
        "colab_type": "text"
      },
      "source": [
        "tensorflow로 파일에서 data 읽어오기"
      ]
    },
    {
      "cell_type": "markdown",
      "metadata": {
        "id": "K1uCTjvpkN4J",
        "colab_type": "text"
      },
      "source": [
        "batch를 이용한 multi variable"
      ]
    },
    {
      "cell_type": "code",
      "metadata": {
        "id": "iefdKG8Mk6kO",
        "colab_type": "code",
        "colab": {}
      },
      "source": [
        "import tensorflow as tf\n",
        "filename_queue = tf.train.string_input_producer(['./data-01-test-score.csv'], shuffle=False, name='filename_queue')\n",
        "reader = tf.TextLineReader()\n",
        "key, value = reader.read(filename_queue)\n",
        "\n",
        "record_defaults = [[0.],[0.],[0.],[0.]]\n",
        "xy = tf.decode_csv(value, record_defaults=record_defaults)\n",
        "\n",
        "train_x_batch, train_y_batch = tf.train.batch([xy[0:-1], xy[-1:]], batch_size=10)\n",
        "\n",
        "\n",
        "x = tf.placeholder(tf.float32, shape=[None, 3])\n",
        "y = tf.placeholder(tf.float32, shape=[None, 1])\n",
        "\n",
        "w = tf.Variable(tf.random_normal([3,1]), name='weight')\n",
        "b = tf.Variable(tf.random_normal([1]), name='bias')\n",
        "\n",
        "hypothesis = tf.matmul(x, w) + b\n",
        "\n",
        "cost = tf.reduce_mean(tf.square(hypothesis - y))\n",
        "\n",
        "optimizer = tf.train.GradientDescentOptimizer(learning_rate=1e-5)\n",
        "train = optimizer.minimize(cost)\n",
        "\n",
        "sess = tf.Session()\n",
        "\n",
        "sess.run(tf.global_variables_initializer())\n",
        "\n",
        "coord = tf.train.Coordinator()\n",
        "threads = tf.train.start_queue_runners(sess = sess, coord=coord)\n",
        "\n",
        "for step in range(2001):\n",
        "  x_batch, y_batch = sess.run([train_x_batch, train_y_batch])\n",
        "  cost_val, hy_val, _ = sess.run([cost, hypothesis, train], feed_dict={x: x_batch, y: y_batch})\n",
        "  if step % 10 == 0:\n",
        "    print(step, \"Cost: \", cost_val, \"\\nPrediction: \\n\", hy_val)\n",
        "\n",
        "coord.request_stop()\n",
        "coord.join(threads)"
      ],
      "execution_count": 0,
      "outputs": []
    },
    {
      "cell_type": "code",
      "metadata": {
        "id": "QPYL798qvpaH",
        "colab_type": "code",
        "colab": {}
      },
      "source": [
        "import tensorflow as tf\n",
        "import numpy as np\n",
        "tf.set_random_seed(777)\n",
        "xy = np.loadtxt('./data-01-test-score.csv', delimiter=',', dtype=np.float32)\n",
        "\n",
        "x_data = xy[:,0:-1]\n",
        "y_data = xy[:,[-1]]\n",
        "print(x_data.shape, x_data, len(x_data))\n",
        "print(y_data.shape, y_data)\n",
        "x = tf.placeholder(tf.float32, shape=[None, 3])\n",
        "y = tf.placeholder(tf.float32, shape=[None, 1])\n",
        "\n",
        "w = tf.Variable(tf.random_normal([3,1]), name='weight')\n",
        "\n",
        "b = tf.Variable(tf.random_normal([1]), name='bias')\n",
        "\n",
        "hypothesis = tf.matmul(x, w) + b\n",
        "\n",
        "cost = tf.reduce_mean(tf.square(hypothesis - y))\n",
        "optimizer = tf.train.GradientDescentOptimizer(learning_rate=1e-5)\n",
        "train = optimizer.minimize(cost)\n",
        "\n",
        "sess = tf.Session()\n",
        "\n",
        "sess.run(tf.global_variables_initializer())\n",
        "for step in range(2001):\n",
        "  cost_val, hy_val, _ = sess.run([cost, hypothesis, train], feed_dict={x: x_data, y: y_data})\n",
        "  if step % 10 == 0:\n",
        "    print(step, \"Cost: \", cost_val, \"\\nPrediction: \\n\", hy_val)\n",
        "\n",
        "print(\"Your score will be \", sess.run(hypothesis, feed_dict={x:[[100,70,101]]}))\n",
        "print(\"Other scores will be \", sess.run(hypothesis, feed_dict={x:[[60,70,110],[90,100,80]]}))\n"
      ],
      "execution_count": 0,
      "outputs": []
    }
  ]
}