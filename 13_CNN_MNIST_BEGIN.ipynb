{
  "nbformat": 4,
  "nbformat_minor": 0,
  "metadata": {
    "colab": {
      "name": "Untitled1.ipynb",
      "provenance": [],
      "collapsed_sections": []
    },
    "kernelspec": {
      "name": "python3",
      "display_name": "Python 3"
    }
  },
  "cells": [
    {
      "cell_type": "markdown",
      "metadata": {
        "id": "B7bVx1c_7I-e",
        "colab_type": "text"
      },
      "source": [
        "MAX_POOL Practice no Padding"
      ]
    },
    {
      "cell_type": "code",
      "metadata": {
        "id": "xVCd6GaGhbGp",
        "colab_type": "code",
        "outputId": "9824f7ff-e6ca-41c5-c96f-e1de30cf7dda",
        "colab": {
          "base_uri": "https://localhost:8080/",
          "height": 52
        }
      },
      "source": [
        "import tensorflow as tf\n",
        "import numpy as np\n",
        "import matplotlib.pyplot as plt\n",
        "\n",
        "image = np.array([[[[4],[3]], [[2],[1]]]], dtype=np.float32)\n",
        "pool = tf.nn.max_pool(image, ksize=[1, 2, 2, 1], strides=[1, 1, 1, 1], padding='VALID')\n",
        "print(pool.shape)\n",
        "print(pool.eval())"
      ],
      "execution_count": 0,
      "outputs": [
        {
          "output_type": "stream",
          "text": [
            "(1, 1, 1, 1)\n",
            "[[[[4.]]]]\n"
          ],
          "name": "stdout"
        }
      ]
    },
    {
      "cell_type": "markdown",
      "metadata": {
        "id": "FNkJoIii7NC2",
        "colab_type": "text"
      },
      "source": [
        "MAX_POOL Practice with Padding"
      ]
    },
    {
      "cell_type": "code",
      "metadata": {
        "id": "23UIVWAUhwRb",
        "colab_type": "code",
        "outputId": "7aab4136-53e8-429c-da01-478b51f58704",
        "colab": {
          "base_uri": "https://localhost:8080/",
          "height": 122
        }
      },
      "source": [
        "image = np.array([[[[4],[3]], [[2],[1]]]], dtype=np.float32)\n",
        "pool = tf.nn.max_pool(image, ksize=[1, 2, 2, 1], strides=[1, 1, 1, 1], padding='SAME')\n",
        "print(pool.shape)\n",
        "print(pool.eval())"
      ],
      "execution_count": 0,
      "outputs": [
        {
          "output_type": "stream",
          "text": [
            "(1, 2, 2, 1)\n",
            "[[[[4.]\n",
            "   [3.]]\n",
            "\n",
            "  [[2.]\n",
            "   [1.]]]]\n"
          ],
          "name": "stdout"
        }
      ]
    },
    {
      "cell_type": "markdown",
      "metadata": {
        "id": "Jf-Fps-w7k2U",
        "colab_type": "text"
      },
      "source": [
        "Random MNIST Example"
      ]
    },
    {
      "cell_type": "code",
      "metadata": {
        "id": "0ET69nnsh3ad",
        "colab_type": "code",
        "outputId": "382e6bf6-0c33-40e2-bfec-dbaa166d5100",
        "colab": {
          "base_uri": "https://localhost:8080/",
          "height": 352
        }
      },
      "source": [
        "from tensorflow.examples.tutorials.mnist import input_data\n",
        "mnist = input_data.read_data_sets(\"MNIST_data/\", one_hot = True)\n",
        "\n",
        "img = mnist.train.images[0].reshape(28,28)\n",
        "plt.imshow(img, cmap='gray')"
      ],
      "execution_count": 0,
      "outputs": [
        {
          "output_type": "stream",
          "text": [
            "Extracting MNIST_data/train-images-idx3-ubyte.gz\n",
            "Extracting MNIST_data/train-labels-idx1-ubyte.gz\n",
            "Extracting MNIST_data/t10k-images-idx3-ubyte.gz\n",
            "Extracting MNIST_data/t10k-labels-idx1-ubyte.gz\n"
          ],
          "name": "stdout"
        },
        {
          "output_type": "execute_result",
          "data": {
            "text/plain": [
              "<matplotlib.image.AxesImage at 0x7f3e5cc7b908>"
            ]
          },
          "metadata": {
            "tags": []
          },
          "execution_count": 45
        },
        {
          "output_type": "display_data",
          "data": {
            "image/png": "[encoded data removed]",
            "text/plain": [
              "<Figure size 432x288 with 1 Axes>"
            ]
          },
          "metadata": {
            "tags": []
          }
        }
      ]
    },
    {
      "cell_type": "markdown",
      "metadata": {
        "id": "rDcdV7MA7vvj",
        "colab_type": "text"
      },
      "source": [
        "CNN Practice with MNiST"
      ]
    },
    {
      "cell_type": "code",
      "metadata": {
        "id": "1XaD5cHXiL3r",
        "colab_type": "code",
        "outputId": "d961ddbb-91f5-41e9-b408-7a44079960f9",
        "colab": {
          "base_uri": "https://localhost:8080/",
          "height": 180
        }
      },
      "source": [
        "sess = tf.InteractiveSession()\n",
        "\n",
        "img = img.reshape(-1,28,28,1)\n",
        "W1 = tf.Variable(tf.random_normal([3, 3, 1, 5], stddev=0.01))\n",
        "conv2d = tf.nn.conv2d(img, W1, strides=[1, 2, 2, 1], padding='SAME')\n",
        "print(conv2d)\n",
        "sess.run(tf.global_variables_initializer())\n",
        "conv2d_img = conv2d.eval()\n",
        "conv2d_img = np.swapaxes(conv2d_img, 0, 3)\n",
        "for i, one_img in enumerate(conv2d_img):\n",
        "  plt.subplot(1,5,i+1), plt.imshow(one_img.reshape(14,14), cmap='gray')"
      ],
      "execution_count": 0,
      "outputs": [
        {
          "output_type": "stream",
          "text": [
            "/usr/local/lib/python3.6/dist-packages/tensorflow_core/python/client/session.py:1750: UserWarning: An interactive session is already active. This can cause out-of-memory errors in some cases. You must explicitly call `InteractiveSession.close()` to release resources held by the other session(s).\n",
            "  warnings.warn('An interactive session is already active. This can '\n"
          ],
          "name": "stderr"
        },
        {
          "output_type": "stream",
          "text": [
            "Tensor(\"Conv2D_19:0\", shape=(1, 14, 14, 5), dtype=float32)\n"
          ],
          "name": "stdout"
        },
        {
          "output_type": "display_data",
          "data": {
            "image/png": "[encoded data removed]",
            "text/plain": [
              "<Figure size 432x288 with 5 Axes>"
            ]
          },
          "metadata": {
            "tags": []
          }
        }
      ]
    },
    {
      "cell_type": "markdown",
      "metadata": {
        "id": "T35q_Fwl8FGb",
        "colab_type": "text"
      },
      "source": [
        "CNN Practice cont. with MAX_POOL"
      ]
    },
    {
      "cell_type": "code",
      "metadata": {
        "id": "JSeick0ZipH1",
        "colab_type": "code",
        "outputId": "c7cf0c55-05fa-45f3-c8f4-3c5dc1ac26c3",
        "colab": {
          "base_uri": "https://localhost:8080/",
          "height": 123
        }
      },
      "source": [
        "pool = tf.nn.max_pool(conv2d, ksize=[1, 2, 2, 1], strides=[1, 2, 2, 1], padding='SAME')\n",
        "print(pool)\n",
        "sess.run(tf.global_variables_initializer())\n",
        "pool_img = pool.eval()\n",
        "pool_img = np.swapaxes(pool_img, 0, 3)\n",
        "for i, one_img in enumerate(pool_img):\n",
        "    plt.subplot(1,5,i+1), plt.imshow(one_img.reshape(7, 7), cmap='gray')"
      ],
      "execution_count": 0,
      "outputs": [
        {
          "output_type": "stream",
          "text": [
            "Tensor(\"MaxPool_3:0\", shape=(1, 7, 7, 5), dtype=float32)\n"
          ],
          "name": "stdout"
        },
        {
          "output_type": "display_data",
          "data": {
            "image/png": "[encoded data removed]",
            "text/plain": [
              "<Figure size 432x288 with 5 Axes>"
            ]
          },
          "metadata": {
            "tags": []
          }
        }
      ]
    }
  ]
}