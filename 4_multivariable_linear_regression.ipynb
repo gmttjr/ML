{
  "nbformat": 4,
  "nbformat_minor": 0,
  "metadata": {
    "colab": {
      "name": "Untitled1.ipynb",
      "provenance": []
    },
    "kernelspec": {
      "name": "python3",
      "display_name": "Python 3"
    }
  },
  "cells": [
    {
      "cell_type": "markdown",
      "metadata": {
        "id": "WYbdmemqvpss",
        "colab_type": "text"
      },
      "source": [
        "multi-variable linear regression"
      ]
    },
    {
      "cell_type": "code",
      "metadata": {
        "id": "hcpu8Mbk020h",
        "colab_type": "code",
        "colab": {}
      },
      "source": [
        "import tensorflow as tf\n",
        "\n",
        "x1_data = [73.,93.,89.,96.,73.]\n",
        "x2_data = [80.,88.,91.,98.,66.]\n",
        "x3_data = [75.,93.,90.,100.,70.]\n",
        "y_data = [152.,185.,180.,196.,142.]\n",
        "\n",
        "x1 = tf.placeholder(tf.float32)\n",
        "x2 = tf.placeholder(tf.float32)\n",
        "x3 = tf.placeholder(tf.float32)\n",
        "\n",
        "y = tf.placeholder(tf.float32)\n",
        "\n",
        "w1 = tf.Variable(tf.random_normal([1]), name='weight1')\n",
        "w2 = tf.Variable(tf.random_normal([1]), name='weight2')\n",
        "w3 = tf.Variable(tf.random_normal([1]), name='weight3')\n",
        "b = tf.Variable(tf.random_normal([1]), name='bias')\n",
        "\n",
        "hypothesis = x1*w1 + x2*w2 + x3*w3 + b\n",
        "\n",
        "cost = tf.reduce_mean(tf.square(hypothesis - y))\n",
        "optimizer = tf.train.GradientDescentOptimizer(learning_rate=1e-5)\n",
        "train = optimizer.minimize(cost)\n",
        "\n",
        "sess = tf.Session()\n",
        "\n",
        "sess.run(tf.global_variables_initializer())\n",
        "for step in range(2001):\n",
        "  cost_val, hy_val, _ = sess.run([cost, hypothesis, train], feed_dict={x1: x1_data, x2: x2_data, x3:x3_data, y:y_data})\n",
        "  if step % 10 == 0:\n",
        "    print(step, \"Cost: \", cost_val, \"\\nPrediction: \\n\", hy_val)"
      ],
      "execution_count": 0,
      "outputs": []
    },
    {
      "cell_type": "code",
      "metadata": {
        "id": "0yfhCLuw25YG",
        "colab_type": "code",
        "colab": {}
      },
      "source": [
        "import tensorflow as tf\n",
        "\n",
        "x_data = [[73.,80.,75.],[93.,88.,93.],[89.,91.,90.],[96.,98.,100.],[73.,66.,70.]]\n",
        "y_data = [[152.],[185.],[180.],[196.],[142.]]\n",
        "\n",
        "x = tf.placeholder(tf.float32, shape=[None, 3])\n",
        "y = tf.placeholder(tf.float32, shape=[None, 1])\n",
        "\n",
        "w = tf.Variable(tf.random_normal([3,1]), name='weight')\n",
        "\n",
        "b = tf.Variable(tf.random_normal([1]), name='bias')\n",
        "\n",
        "hypothesis = tf.matmul(x, w) + b\n",
        "\n",
        "cost = tf.reduce_mean(tf.square(hypothesis - y))\n",
        "optimizer = tf.train.GradientDescentOptimizer(learning_rate=1e-5)\n",
        "train = optimizer.minimize(cost)\n",
        "\n",
        "sess = tf.Session()\n",
        "\n",
        "sess.run(tf.global_variables_initializer())\n",
        "for step in range(2001):\n",
        "  cost_val, hy_val, _ = sess.run([cost, hypothesis, train], feed_dict={x: x_data, y: y_data})\n",
        "  if step % 10 == 0:\n",
        "    print(step, \"Cost: \", cost_val, \"\\nPrediction: \\n\", hy_val)"
      ],
      "execution_count": 0,
      "outputs": []
    }
  ]
}