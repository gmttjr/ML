{
  "nbformat": 4,
  "nbformat_minor": 0,
  "metadata": {
    "colab": {
      "name": "Untitled1.ipynb",
      "provenance": []
    },
    "kernelspec": {
      "name": "python3",
      "display_name": "Python 3"
    }
  },
  "cells": [
    {
      "cell_type": "markdown",
      "metadata": {
        "id": "Dfj5bnEwBHI3",
        "colab_type": "text"
      },
      "source": [
        "MNIST"
      ]
    },
    {
      "cell_type": "code",
      "metadata": {
        "id": "K3tPIYdtBJz5",
        "colab_type": "code",
        "outputId": "4a9e2006-ba81-40f3-ec22-3e44822e9a4e",
        "colab": {
          "base_uri": "https://localhost:8080/",
          "height": 367
        }
      },
      "source": [
        "import tensorflow as tf\n",
        "from tensorflow.examples.tutorials.mnist import input_data\n",
        "\n",
        "\n",
        "mnist = input_data.read_data_sets(\"MNIST_data/\", one_hot = True)\n",
        "\n",
        "nb_classes = 10\n",
        "\n",
        "x = tf.placeholder(tf.float32,[None,784])\n",
        "y = tf.placeholder(tf.float32, [None, nb_classes])\n",
        "\n",
        "w = tf.Variable(tf.random_normal([784, nb_classes]))\n",
        "b = tf.Variable(tf.random_normal([nb_classes]))\n",
        "\n",
        "hypothesis = tf.nn.softmax(tf.matmul(x,w)+b)\n",
        "cost = tf.reduce_mean(-tf.reduce_sum(y * tf.log(hypothesis), axis=1))\n",
        "optimizer = tf.train.GradientDescentOptimizer(learning_rate = 0.1).minimize(cost)\n",
        "\n",
        "is_correct = tf.equal(tf.arg_max(hypothesis,1),tf.arg_max(y,1))\n",
        "accuracy = tf.reduce_mean(tf.cast(is_correct,tf.float32))\n",
        "\n",
        "training_epochs = 15\n",
        "batch_size = 100\n",
        "\n",
        "with tf.Session() as sess:\n",
        "  sess.run(tf.global_variables_initializer())\n",
        "  for epoch in range(training_epochs):\n",
        "    avg_cost = 0\n",
        "    total_batch = int(mnist.train.num_examples / batch_size)\n",
        "\n",
        "    for i in range(total_batch):\n",
        "      batch_xs, batch_ys = mnist.train.next_batch(batch_size)\n",
        "      c, _ = sess.run([cost, optimizer], feed_dict = {x:batch_xs, y: batch_ys})\n",
        "      avg_cost += c / total_batch\n",
        "    print('Epoch:','%04d' % (epoch+1), 'cost =', '{:.9f}'.format(avg_cost))\n",
        "  print(\"Accuracy: \", accuracy.eval(session=sess, feed_dict={x:mnist.test.images,y:mnist.test.labels}))\n"
      ],
      "execution_count": 0,
      "outputs": [
        {
          "output_type": "stream",
          "text": [
            "Extracting MNIST_data/train-images-idx3-ubyte.gz\n",
            "Extracting MNIST_data/train-labels-idx1-ubyte.gz\n",
            "Extracting MNIST_data/t10k-images-idx3-ubyte.gz\n",
            "Extracting MNIST_data/t10k-labels-idx1-ubyte.gz\n",
            "Epoch: 0001 cost = 2.888433115\n",
            "Epoch: 0002 cost = 1.066092257\n",
            "Epoch: 0003 cost = 0.840590140\n",
            "Epoch: 0004 cost = 0.734623680\n",
            "Epoch: 0005 cost = 0.668669992\n",
            "Epoch: 0006 cost = 0.623026057\n",
            "Epoch: 0007 cost = 0.588880965\n",
            "Epoch: 0008 cost = 0.562164516\n",
            "Epoch: 0009 cost = 0.540056424\n",
            "Epoch: 0010 cost = 0.521913114\n",
            "Epoch: 0011 cost = 0.505899966\n",
            "Epoch: 0012 cost = 0.492199535\n",
            "Epoch: 0013 cost = 0.480230956\n",
            "Epoch: 0014 cost = 0.469070841\n",
            "Epoch: 0015 cost = 0.459342113\n",
            "Accuracy:  0.8902\n"
          ],
          "name": "stdout"
        }
      ]
    },
    {
      "cell_type": "markdown",
      "metadata": {
        "id": "bRcSiDFjIUXt",
        "colab_type": "text"
      },
      "source": [
        "With sample image show and prediction"
      ]
    },
    {
      "cell_type": "code",
      "metadata": {
        "id": "gLeOzVZvIWx9",
        "colab_type": "code",
        "outputId": "9cea4e82-c113-4e45-bad7-5785bf9f4845",
        "colab": {
          "base_uri": "https://localhost:8080/",
          "height": 650
        }
      },
      "source": [
        "import tensorflow as tf\n",
        "from tensorflow.examples.tutorials.mnist import input_data\n",
        "import matplotlib.pyplot as plt\n",
        "import random\n",
        "\n",
        "mnist = input_data.read_data_sets(\"MNIST_data/\", one_hot = True)\n",
        "\n",
        "nb_classes = 10\n",
        "\n",
        "x = tf.placeholder(tf.float32,[None,784])\n",
        "y = tf.placeholder(tf.float32, [None, nb_classes])\n",
        "\n",
        "w = tf.Variable(tf.random_normal([784, nb_classes]))\n",
        "b = tf.Variable(tf.random_normal([nb_classes]))\n",
        "\n",
        "hypothesis = tf.nn.softmax(tf.matmul(x,w)+b)\n",
        "cost = tf.reduce_mean(-tf.reduce_sum(y * tf.log(hypothesis), axis=1))\n",
        "optimizer = tf.train.GradientDescentOptimizer(learning_rate = 0.1).minimize(cost)\n",
        "\n",
        "is_correct = tf.equal(tf.arg_max(hypothesis,1),tf.arg_max(y,1))\n",
        "accuracy = tf.reduce_mean(tf.cast(is_correct,tf.float32))\n",
        "\n",
        "training_epochs = 15\n",
        "batch_size = 100\n",
        "\n",
        "with tf.Session() as sess:\n",
        "  sess.run(tf.global_variables_initializer())\n",
        "  for epoch in range(training_epochs):\n",
        "    avg_cost = 0\n",
        "    total_batch = int(mnist.train.num_examples / batch_size)\n",
        "\n",
        "    for i in range(total_batch):\n",
        "      batch_xs, batch_ys = mnist.train.next_batch(batch_size)\n",
        "      c, _ = sess.run([cost, optimizer], feed_dict = {x:batch_xs, y: batch_ys})\n",
        "      avg_cost += c / total_batch\n",
        "    print('Epoch:','%04d' % (epoch+1), 'cost =', '{:.9f}'.format(avg_cost))\n",
        "  print(\"Accuracy: \", accuracy.eval(session=sess, feed_dict={x:mnist.test.images,y:mnist.test.labels}))\n",
        "  r = random.randint(0, mnist.test.num_examples -1)\n",
        "  print(\"Label1:\", sess.run(tf.argmax(mnist.test.labels[r:r+1],1)))\n",
        "  print(\"Prediction:\", sess.run(tf.argmax(hypothesis, 1), feed_dict={x:mnist.test.images[r:r+1]}))\n",
        "\n",
        "  plt.imshow(mnist.test.images[r:r+1].reshape(28,28), cmap='Greys', interpolation='nearest')\n",
        "  plt.show()"
      ],
      "execution_count": 0,
      "outputs": [
        {
          "output_type": "stream",
          "text": [
            "Extracting MNIST_data/train-images-idx3-ubyte.gz\n",
            "Extracting MNIST_data/train-labels-idx1-ubyte.gz\n",
            "Extracting MNIST_data/t10k-images-idx3-ubyte.gz\n",
            "Extracting MNIST_data/t10k-labels-idx1-ubyte.gz\n",
            "Epoch: 0001 cost = 2.931330703\n",
            "Epoch: 0002 cost = 1.133081497\n",
            "Epoch: 0003 cost = 0.907324286\n",
            "Epoch: 0004 cost = 0.792636541\n",
            "Epoch: 0005 cost = 0.719323390\n",
            "Epoch: 0006 cost = 0.666900329\n",
            "Epoch: 0007 cost = 0.627150749\n",
            "Epoch: 0008 cost = 0.595577061\n",
            "Epoch: 0009 cost = 0.569531253\n",
            "Epoch: 0010 cost = 0.547577710\n",
            "Epoch: 0011 cost = 0.528747611\n",
            "Epoch: 0012 cost = 0.513057485\n",
            "Epoch: 0013 cost = 0.498389002\n",
            "Epoch: 0014 cost = 0.485932419\n",
            "Epoch: 0015 cost = 0.474754998\n",
            "Accuracy:  0.8873\n",
            "Label1: [7]\n",
            "Prediction: [7]\n"
          ],
          "name": "stdout"
        },
        {
          "output_type": "display_data",
          "data": {
            "image/png": "[encoded data removed]",
            "text/plain": [
              "<Figure size 432x288 with 1 Axes>"
            ]
          },
          "metadata": {
            "tags": []
          }
        }
      ]
    }
  ]
}