{
  "nbformat": 4,
  "nbformat_minor": 0,
  "metadata": {
    "colab": {
      "name": "Untitled7.ipynb",
      "provenance": []
    },
    "kernelspec": {
      "name": "python3",
      "display_name": "Python 3"
    }
  },
  "cells": [
    {
      "cell_type": "markdown",
      "metadata": {
        "id": "-E0dOwSvPXIS",
        "colab_type": "text"
      },
      "source": [
        "RNN_Basic"
      ]
    },
    {
      "cell_type": "code",
      "metadata": {
        "id": "pVw1WZA4OMKd",
        "colab_type": "code",
        "outputId": "b48ebde3-2026-41cb-9452-d07a9330f0d1",
        "colab": {
          "base_uri": "https://localhost:8080/",
          "height": 89
        }
      },
      "source": [
        "import tensorflow as tf\n",
        "import numpy as np\n",
        "#from tensorflow.contrib import rnn\n",
        "import pprint\n",
        "\n",
        "tf.set_random_seed(777) \n",
        "tf.reset_default_graph()\n",
        "pp = pprint.PrettyPrinter(indent=4)\n",
        "sess = tf.InteractiveSession()\n",
        "\n",
        "h = [1, 0, 0, 0]\n",
        "e = [0, 1, 0, 0]\n",
        "l = [0, 0, 1, 0]\n",
        "o = [0, 0, 0, 1]\n",
        "\n",
        "with tf.variable_scope('one_cell') as scope:\n",
        "    # One cell RNN input_dim (4) -> output_dim (2)\n",
        "    hidden_size = 2\n",
        "\n",
        "    cell = tf.contrib.rnn.BasicLSTMCell(num_units = hidden_size)\n",
        "    x_data = np.array([[[1,0,0,0]]], dtype = np.float32)\n",
        " \n",
        "    outputs, _states = tf.nn.dynamic_rnn(cell, x_data, dtype=tf.float32)\n",
        "\n",
        "    sess.run(tf.global_variables_initializer())\n",
        "    pp.pprint(outputs.eval())\n",
        "    sess.close()\n",
        "\n"
      ],
      "execution_count": 0,
      "outputs": [
        {
          "output_type": "stream",
          "text": [
            "array([[[-0.0873009 ,  0.07357877]]], dtype=float32)\n"
          ],
          "name": "stdout"
        },
        {
          "output_type": "stream",
          "text": [
            "/usr/local/lib/python3.6/dist-packages/tensorflow_core/python/client/session.py:1750: UserWarning: An interactive session is already active. This can cause out-of-memory errors in some cases. You must explicitly call `InteractiveSession.close()` to release resources held by the other session(s).\n",
            "  warnings.warn('An interactive session is already active. This can '\n"
          ],
          "name": "stderr"
        }
      ]
    },
    {
      "cell_type": "markdown",
      "metadata": {
        "id": "_29eEoSwPZVu",
        "colab_type": "text"
      },
      "source": [
        "Unfolding_n_sequences"
      ]
    },
    {
      "cell_type": "code",
      "metadata": {
        "id": "02RfY_jePeLr",
        "colab_type": "code",
        "outputId": "cabcc264-c50a-459c-ba38-ba10612c1cde",
        "colab": {
          "base_uri": "https://localhost:8080/",
          "height": 264
        }
      },
      "source": [
        "\n",
        "tf.reset_default_graph()\n",
        "sess = tf.InteractiveSession()\n",
        "with tf.variable_scope('two_sequences') as scope:\n",
        "\n",
        "    # One cell RNN input_dim (4) -> output_dim (2). sequence: 5\n",
        "    hidden_size = 2\n",
        "    cell = tf.contrib.rnn.BasicLSTMCell(num_units=hidden_size)\n",
        "    x_data = np.array([[h, e, l, l, o]], dtype=np.float32)\n",
        "    print(x_data.shape)\n",
        "    pp.pprint(x_data)\n",
        "    outputs, _states = tf.nn.dynamic_rnn(cell, x_data, dtype=tf.float32)\n",
        "    sess.run(tf.global_variables_initializer())\n",
        "    pp.pprint(outputs.eval())\n",
        "    sess.close()"
      ],
      "execution_count": 0,
      "outputs": [
        {
          "output_type": "stream",
          "text": [
            "(1, 5, 4)\n",
            "array([[[1., 0., 0., 0.],\n",
            "        [0., 1., 0., 0.],\n",
            "        [0., 0., 1., 0.],\n",
            "        [0., 0., 1., 0.],\n",
            "        [0., 0., 0., 1.]]], dtype=float32)\n",
            "array([[[ 0.09692422,  0.15030025],\n",
            "        [ 0.02823921,  0.04171188],\n",
            "        [ 0.12872322,  0.01345258],\n",
            "        [ 0.18622671, -0.03020829],\n",
            "        [ 0.16544516, -0.15265952]]], dtype=float32)\n"
          ],
          "name": "stdout"
        },
        {
          "output_type": "stream",
          "text": [
            "/usr/local/lib/python3.6/dist-packages/tensorflow_core/python/client/session.py:1750: UserWarning: An interactive session is already active. This can cause out-of-memory errors in some cases. You must explicitly call `InteractiveSession.close()` to release resources held by the other session(s).\n",
            "  warnings.warn('An interactive session is already active. This can '\n"
          ],
          "name": "stderr"
        }
      ]
    },
    {
      "cell_type": "markdown",
      "metadata": {
        "id": "-pnPp2Wdj64I",
        "colab_type": "text"
      },
      "source": [
        "RNN_different_Batch_Size"
      ]
    },
    {
      "cell_type": "code",
      "metadata": {
        "id": "6l5dL2uORGno",
        "colab_type": "code",
        "outputId": "cc3d0f4b-7143-41b8-883a-f6c6e4d681e4",
        "colab": {
          "base_uri": "https://localhost:8080/",
          "height": 667
        }
      },
      "source": [
        "\n",
        "tf.reset_default_graph()\n",
        "sess = tf.InteractiveSession()\n",
        "with tf.variable_scope('two_sequances') as scope:\n",
        "    # One cell RNN input_dim (4) -> output_dim (2). sequence: 5\n",
        "    x_data = np.array([[h,e,l,l,o],[e,o,l,l,l],[l,l,e,e,l]], dtype=np.float32)\n",
        "    pp.pprint(x_data)\n",
        "    hidden_size = 2\n",
        "    cell = rnn.BasicLSTMCell(num_units=2, state_is_tuple = True)\n",
        "    outputs, _states = tf.nn.dynamic_rnn(cell, x_data, dtype=tf.float32)\n",
        "    sess.run(tf.global_variables_initializer())\n",
        "    pp.pprint(outputs.eval())\n",
        "    sess.close()"
      ],
      "execution_count": 0,
      "outputs": [
        {
          "output_type": "stream",
          "text": [
            "array([[[1., 0., 0., 0.],\n",
            "        [0., 1., 0., 0.],\n",
            "        [0., 0., 1., 0.],\n",
            "        [0., 0., 1., 0.],\n",
            "        [0., 0., 0., 1.]],\n",
            "\n",
            "       [[0., 1., 0., 0.],\n",
            "        [0., 0., 0., 1.],\n",
            "        [0., 0., 1., 0.],\n",
            "        [0., 0., 1., 0.],\n",
            "        [0., 0., 1., 0.]],\n",
            "\n",
            "       [[0., 0., 1., 0.],\n",
            "        [0., 0., 1., 0.],\n",
            "        [0., 1., 0., 0.],\n",
            "        [0., 1., 0., 0.],\n",
            "        [0., 0., 1., 0.]]], dtype=float32)\n",
            "array([[[-0.03640458,  0.1014206 ],\n",
            "        [ 0.00065569,  0.11888927],\n",
            "        [-0.06556062,  0.21440344],\n",
            "        [-0.10104939,  0.27493468],\n",
            "        [-0.10345352,  0.02555848]],\n",
            "\n",
            "       [[ 0.02263841,  0.04666751],\n",
            "        [ 0.00314251, -0.14994466],\n",
            "        [-0.09596389,  0.01547225],\n",
            "        [-0.14342006,  0.12819679],\n",
            "        [-0.16492164,  0.21380673]],\n",
            "\n",
            "       [[-0.08005171,  0.11434648],\n",
            "        [-0.1223147 ,  0.20245232],\n",
            "        [-0.12817718,  0.16746487],\n",
            "        [-0.07413972,  0.15716822],\n",
            "        [-0.09602792,  0.24597505]]], dtype=float32)\n"
          ],
          "name": "stdout"
        },
        {
          "output_type": "stream",
          "text": [
            "/usr/local/lib/python3.6/dist-packages/tensorflow_core/python/client/session.py:1750: UserWarning: An interactive session is already active. This can cause out-of-memory errors in some cases. You must explicitly call `InteractiveSession.close()` to release resources held by the other session(s).\n",
            "  warnings.warn('An interactive session is already active. This can '\n"
          ],
          "name": "stderr"
        }
      ]
    },
    {
      "cell_type": "markdown",
      "metadata": {
        "id": "vIQhvqABj_cd",
        "colab_type": "text"
      },
      "source": [
        "Teach_RNN_HIHELLO"
      ]
    },
    {
      "cell_type": "code",
      "metadata": {
        "id": "x5SQWuegkB2a",
        "colab_type": "code",
        "outputId": "7549e196-85da-43d2-8a63-d72b45218d3d",
        "colab": {
          "base_uri": "https://localhost:8080/",
          "height": 1000
        }
      },
      "source": [
        "import tensorflow as tf\n",
        "import numpy as np\n",
        "from tensorflow.contrib import rnn\n",
        "import pprint\n",
        "tf.reset_default_graph()\n",
        "idx2char = ['h', 'i', 'e', 'l', 'o']\n",
        "# Teach hello: hihell -> ihello\n",
        "x_data = [[0, 1, 0, 2, 3, 3]] \n",
        "x_one_hot = [[[1, 0, 0, 0, 0], \n",
        "              [0, 1, 0, 0, 0],   \n",
        "              [1, 0, 0, 0, 0], \n",
        "              [0, 0, 1, 0, 0],  \n",
        "              [0, 0, 0, 1, 0], \n",
        "              [0, 0, 0, 1, 0]]]  \n",
        "\n",
        "y_data = [[1, 0, 2, 3, 3, 4]]  \n",
        "\n",
        "num_classes = 5\n",
        "input_dim = 5  # one-hot size\n",
        "hidden_size = 5  # output from the LSTM. 5 to directly predict one-hot\n",
        "batch_size = 1   # one sentence\n",
        "sequence_length = 6  # |ihello| == 6\n",
        "learning_rate = 0.1\n",
        "\n",
        "x = tf.placeholder(tf.float32, [None, sequence_length, input_dim])  # X one-hot\n",
        "y = tf.placeholder(tf.int32, [None, sequence_length])  # Y label\n",
        "\n",
        "cell = tf.contrib.rnn.BasicLSTMCell(num_units=hidden_size, state_is_tuple=True)\n",
        "initial_state = cell.zero_state(batch_size, tf.float32)\n",
        "outputs, _states = tf.nn.dynamic_rnn(cell, x, initial_state=initial_state, dtype=tf.float32)\n",
        "\n",
        "# FC layer\n",
        "x_for_fc = tf.reshape(outputs, [-1, hidden_size])\n",
        "outputs = tf.contrib.layers.fully_connected(inputs=x_for_fc, num_outputs=num_classes, activation_fn=None)\n",
        "\n",
        "# reshape out for sequence_loss\n",
        "outputs = tf.reshape(outputs, [batch_size, sequence_length, num_classes])\n",
        "\n",
        "weights = tf.ones([batch_size, sequence_length])\n",
        "sequence_loss = tf.contrib.seq2seq.sequence_loss(logits=outputs, targets=y, weights=weights)\n",
        "loss = tf.reduce_mean(sequence_loss)\n",
        "train = tf.train.AdamOptimizer(learning_rate=learning_rate).minimize(loss)\n",
        "\n",
        "prediction = tf.argmax(outputs, axis=2)\n",
        "\n",
        "with tf.Session() as sess:\n",
        "    sess.run(tf.global_variables_initializer())\n",
        "    for i in range(50):\n",
        "        l, _ = sess.run([loss, train], feed_dict={x: x_one_hot, y: y_data})\n",
        "        result = sess.run(prediction, feed_dict={x: x_one_hot})\n",
        "        print(i, \"loss:\", l, \"prediction: \", result, \"true Y: \", y_data)\n",
        "\n",
        "        # print char using dic\n",
        "        result_str = [idx2char[c] for c in np.squeeze(result)]\n",
        "        print(\"\\tPrediction str: \", ''.join(result_str))\n",
        "sess.close()\n"
      ],
      "execution_count": 0,
      "outputs": [
        {
          "output_type": "stream",
          "text": [
            "0 loss: 1.5672983 prediction:  [[3 3 3 3 3 3]] true Y:  [[1, 0, 2, 3, 3, 4]]\n",
            "\tPrediction str:  llllll\n",
            "1 loss: 1.4754376 prediction:  [[3 3 3 3 3 3]] true Y:  [[1, 0, 2, 3, 3, 4]]\n",
            "\tPrediction str:  llllll\n",
            "2 loss: 1.4507885 prediction:  [[3 3 3 3 3 3]] true Y:  [[1, 0, 2, 3, 3, 4]]\n",
            "\tPrediction str:  llllll\n",
            "3 loss: 1.381794 prediction:  [[3 3 3 3 3 3]] true Y:  [[1, 0, 2, 3, 3, 4]]\n",
            "\tPrediction str:  llllll\n",
            "4 loss: 1.3104488 prediction:  [[0 3 3 3 3 3]] true Y:  [[1, 0, 2, 3, 3, 4]]\n",
            "\tPrediction str:  hlllll\n",
            "5 loss: 1.2419056 prediction:  [[0 0 3 3 3 3]] true Y:  [[1, 0, 2, 3, 3, 4]]\n",
            "\tPrediction str:  hhllll\n",
            "6 loss: 1.1485571 prediction:  [[0 0 3 3 3 3]] true Y:  [[1, 0, 2, 3, 3, 4]]\n",
            "\tPrediction str:  hhllll\n",
            "7 loss: 1.0443482 prediction:  [[1 0 2 3 3 4]] true Y:  [[1, 0, 2, 3, 3, 4]]\n",
            "\tPrediction str:  ihello\n",
            "8 loss: 0.9425936 prediction:  [[1 0 2 3 3 4]] true Y:  [[1, 0, 2, 3, 3, 4]]\n",
            "\tPrediction str:  ihello\n",
            "9 loss: 0.83969766 prediction:  [[1 0 2 3 3 4]] true Y:  [[1, 0, 2, 3, 3, 4]]\n",
            "\tPrediction str:  ihello\n",
            "10 loss: 0.7416382 prediction:  [[1 0 2 3 3 4]] true Y:  [[1, 0, 2, 3, 3, 4]]\n",
            "\tPrediction str:  ihello\n",
            "11 loss: 0.6334348 prediction:  [[1 0 2 3 3 4]] true Y:  [[1, 0, 2, 3, 3, 4]]\n",
            "\tPrediction str:  ihello\n",
            "12 loss: 0.53834146 prediction:  [[1 0 2 3 3 4]] true Y:  [[1, 0, 2, 3, 3, 4]]\n",
            "\tPrediction str:  ihello\n",
            "13 loss: 0.44465613 prediction:  [[1 0 2 3 3 4]] true Y:  [[1, 0, 2, 3, 3, 4]]\n",
            "\tPrediction str:  ihello\n",
            "14 loss: 0.35928154 prediction:  [[1 0 2 3 3 4]] true Y:  [[1, 0, 2, 3, 3, 4]]\n",
            "\tPrediction str:  ihello\n",
            "15 loss: 0.29240832 prediction:  [[1 0 2 3 3 4]] true Y:  [[1, 0, 2, 3, 3, 4]]\n",
            "\tPrediction str:  ihello\n",
            "16 loss: 0.23226957 prediction:  [[1 0 2 3 3 4]] true Y:  [[1, 0, 2, 3, 3, 4]]\n",
            "\tPrediction str:  ihello\n",
            "17 loss: 0.18595362 prediction:  [[1 0 2 3 3 4]] true Y:  [[1, 0, 2, 3, 3, 4]]\n",
            "\tPrediction str:  ihello\n",
            "18 loss: 0.1464866 prediction:  [[1 0 2 3 3 4]] true Y:  [[1, 0, 2, 3, 3, 4]]\n",
            "\tPrediction str:  ihello\n",
            "19 loss: 0.11239618 prediction:  [[1 0 2 3 3 4]] true Y:  [[1, 0, 2, 3, 3, 4]]\n",
            "\tPrediction str:  ihello\n",
            "20 loss: 0.0881516 prediction:  [[1 0 2 3 3 4]] true Y:  [[1, 0, 2, 3, 3, 4]]\n",
            "\tPrediction str:  ihello\n",
            "21 loss: 0.06880114 prediction:  [[1 0 2 3 3 4]] true Y:  [[1, 0, 2, 3, 3, 4]]\n",
            "\tPrediction str:  ihello\n",
            "22 loss: 0.053071585 prediction:  [[1 0 2 3 3 4]] true Y:  [[1, 0, 2, 3, 3, 4]]\n",
            "\tPrediction str:  ihello\n",
            "23 loss: 0.04222199 prediction:  [[1 0 2 3 3 4]] true Y:  [[1, 0, 2, 3, 3, 4]]\n",
            "\tPrediction str:  ihello\n",
            "24 loss: 0.034366984 prediction:  [[1 0 2 3 3 4]] true Y:  [[1, 0, 2, 3, 3, 4]]\n",
            "\tPrediction str:  ihello\n",
            "25 loss: 0.027369903 prediction:  [[1 0 2 3 3 4]] true Y:  [[1, 0, 2, 3, 3, 4]]\n",
            "\tPrediction str:  ihello\n",
            "26 loss: 0.021968774 prediction:  [[1 0 2 3 3 4]] true Y:  [[1, 0, 2, 3, 3, 4]]\n",
            "\tPrediction str:  ihello\n",
            "27 loss: 0.018225389 prediction:  [[1 0 2 3 3 4]] true Y:  [[1, 0, 2, 3, 3, 4]]\n",
            "\tPrediction str:  ihello\n",
            "28 loss: 0.015377365 prediction:  [[1 0 2 3 3 4]] true Y:  [[1, 0, 2, 3, 3, 4]]\n",
            "\tPrediction str:  ihello\n",
            "29 loss: 0.012939617 prediction:  [[1 0 2 3 3 4]] true Y:  [[1, 0, 2, 3, 3, 4]]\n",
            "\tPrediction str:  ihello\n",
            "30 loss: 0.0108623365 prediction:  [[1 0 2 3 3 4]] true Y:  [[1, 0, 2, 3, 3, 4]]\n",
            "\tPrediction str:  ihello\n",
            "31 loss: 0.00920241 prediction:  [[1 0 2 3 3 4]] true Y:  [[1, 0, 2, 3, 3, 4]]\n",
            "\tPrediction str:  ihello\n",
            "32 loss: 0.007925054 prediction:  [[1 0 2 3 3 4]] true Y:  [[1, 0, 2, 3, 3, 4]]\n",
            "\tPrediction str:  ihello\n",
            "33 loss: 0.006931383 prediction:  [[1 0 2 3 3 4]] true Y:  [[1, 0, 2, 3, 3, 4]]\n",
            "\tPrediction str:  ihello\n",
            "34 loss: 0.006125537 prediction:  [[1 0 2 3 3 4]] true Y:  [[1, 0, 2, 3, 3, 4]]\n",
            "\tPrediction str:  ihello\n",
            "35 loss: 0.005444739 prediction:  [[1 0 2 3 3 4]] true Y:  [[1, 0, 2, 3, 3, 4]]\n",
            "\tPrediction str:  ihello\n",
            "36 loss: 0.00485756 prediction:  [[1 0 2 3 3 4]] true Y:  [[1, 0, 2, 3, 3, 4]]\n",
            "\tPrediction str:  ihello\n",
            "37 loss: 0.0043508806 prediction:  [[1 0 2 3 3 4]] true Y:  [[1, 0, 2, 3, 3, 4]]\n",
            "\tPrediction str:  ihello\n",
            "38 loss: 0.003917471 prediction:  [[1 0 2 3 3 4]] true Y:  [[1, 0, 2, 3, 3, 4]]\n",
            "\tPrediction str:  ihello\n",
            "39 loss: 0.0035499192 prediction:  [[1 0 2 3 3 4]] true Y:  [[1, 0, 2, 3, 3, 4]]\n",
            "\tPrediction str:  ihello\n",
            "40 loss: 0.0032393597 prediction:  [[1 0 2 3 3 4]] true Y:  [[1, 0, 2, 3, 3, 4]]\n",
            "\tPrediction str:  ihello\n",
            "41 loss: 0.0029765454 prediction:  [[1 0 2 3 3 4]] true Y:  [[1, 0, 2, 3, 3, 4]]\n",
            "\tPrediction str:  ihello\n",
            "42 loss: 0.0027529385 prediction:  [[1 0 2 3 3 4]] true Y:  [[1, 0, 2, 3, 3, 4]]\n",
            "\tPrediction str:  ihello\n",
            "43 loss: 0.0025610721 prediction:  [[1 0 2 3 3 4]] true Y:  [[1, 0, 2, 3, 3, 4]]\n",
            "\tPrediction str:  ihello\n",
            "44 loss: 0.0023949116 prediction:  [[1 0 2 3 3 4]] true Y:  [[1, 0, 2, 3, 3, 4]]\n",
            "\tPrediction str:  ihello\n",
            "45 loss: 0.002249839 prediction:  [[1 0 2 3 3 4]] true Y:  [[1, 0, 2, 3, 3, 4]]\n",
            "\tPrediction str:  ihello\n",
            "46 loss: 0.0021223 prediction:  [[1 0 2 3 3 4]] true Y:  [[1, 0, 2, 3, 3, 4]]\n",
            "\tPrediction str:  ihello\n",
            "47 loss: 0.0020095084 prediction:  [[1 0 2 3 3 4]] true Y:  [[1, 0, 2, 3, 3, 4]]\n",
            "\tPrediction str:  ihello\n",
            "48 loss: 0.0019094091 prediction:  [[1 0 2 3 3 4]] true Y:  [[1, 0, 2, 3, 3, 4]]\n",
            "\tPrediction str:  ihello\n",
            "49 loss: 0.0018203203 prediction:  [[1 0 2 3 3 4]] true Y:  [[1, 0, 2, 3, 3, 4]]\n",
            "\tPrediction str:  ihello\n"
          ],
          "name": "stdout"
        }
      ]
    }
  ]
}